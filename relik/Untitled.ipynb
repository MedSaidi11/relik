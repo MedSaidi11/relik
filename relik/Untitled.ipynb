{
 "cells": [
  {
   "cell_type": "code",
   "execution_count": 1,
   "id": "375f2142",
   "metadata": {},
   "outputs": [],
   "source": [
    "import os\n",
    "import sys\n",
    "sys.path.append(os.path.join(os.getcwd(),\"relik\"))"
   ]
  },
  {
   "cell_type": "code",
   "execution_count": 2,
   "id": "d226068a-6dff-409b-895c-8ec4c77bbff5",
   "metadata": {},
   "outputs": [],
   "source": [
    "from relik.retriever import GoldenRetriever"
   ]
  },
  {
   "cell_type": "code",
   "execution_count": 3,
   "id": "4e49ed67-07db-4460-8d3c-08f84c68df48",
   "metadata": {},
   "outputs": [],
   "source": [
    "encoder_name_or_path = \"sapienzanlp/relik-retriever-e5-base-v2-aida-blink-encoder\""
   ]
  },
  {
   "cell_type": "code",
   "execution_count": 4,
   "id": "3fb9d228-3db0-49c7-93a2-039471676197",
   "metadata": {},
   "outputs": [],
   "source": [
    "index_name_or_path = \"../index/\""
   ]
  },
  {
   "cell_type": "code",
   "execution_count": 5,
   "id": "92cde835-2c7c-4418-a169-003fdcef1ea8",
   "metadata": {
    "scrolled": true
   },
   "outputs": [
    {
     "name": "stdout",
     "output_type": "stream",
     "text": [
      "[2025-02-04 18:54:11,161] [INFO] [relik.common.utils.from_cache:440] [PID:310369] [RANK:0] ../index/ is a local path or file\u001b[39m\n",
      "[2025-02-04 18:54:11,166] [INFO] [relik.retriever.indexers.base.from_pretrained:484] [PID:310369] [RANK:0] Loading Index from config:\u001b[39m\n",
      "[2025-02-04 18:54:11,167] [INFO] [relik.retriever.indexers.base.from_pretrained:485] [PID:310369] [RANK:0] {\n",
      "    '_target_': 'relik.retriever.indexers.inmemory.InMemoryDocumentIndex',\n",
      "    'device': 'cuda',\n",
      "    'metadata_fields': [],\n",
      "    'name_or_path': None,\n",
      "    'precision': '16',\n",
      "    'separator': None,\n",
      "}\u001b[39m\n",
      "[2025-02-04 18:54:11,168] [INFO] [relik.retriever.indexers.base.from_pretrained:492] [PID:310369] [RANK:0] Loading documents from ../index/documents.jsonl\u001b[39m\n",
      "[2025-02-04 18:54:11,624] [INFO] [relik.retriever.indexers.base.from_pretrained:535] [PID:310369] [RANK:0] Loading embeddings from ../index/embeddings.pt\u001b[39m\n",
      "[2025-02-04 18:54:13,828] [INFO] [relik.retriever.indexers.inmemory.__init__:65] [PID:310369] [RANK:0] Both documents and embeddings are provided.\u001b[39m\n",
      "[2025-02-04 18:54:13,829] [INFO] [relik.retriever.indexers.inmemory.__init__:90] [PID:310369] [RANK:0] Index vectors are of type torch.float32. Converting to torch.float16.\u001b[39m\n"
     ]
    }
   ],
   "source": [
    "retriever = GoldenRetriever(question_encoder=encoder_name_or_path,document_index=index_name_or_path,device=\"cuda\", precision=\"16\",index_device=\"cuda\",index_precision=\"16\")"
   ]
  },
  {
   "cell_type": "code",
   "execution_count": 40,
   "id": "d04d0bff-2ea1-4179-9340-46856ed7cedb",
   "metadata": {},
   "outputs": [
    {
     "data": {
      "text/plain": [
       "['Skill',\n",
       " 'Data-driven',\n",
       " 'Skilled Group',\n",
       " 'SMART Team',\n",
       " 'The Skill',\n",
       " 'Analytical skill',\n",
       " \"Trust Us, We're Experts\",\n",
       " 'Skill position',\n",
       " 'Data-informed decision-making',\n",
       " 'People skills']"
      ]
     },
     "execution_count": 40,
     "metadata": {},
     "output_type": "execute_result"
    }
   ],
   "source": [
    "N = 10\n",
    "L = retriever.retrieve(\"As a data-driven organization, we rely on our team members to expertly navigate data collection systems, effectively communicate actionable insights, analyze complex datasets, and construct innovative data models to drive informed decision making.\", top_k=N)\n",
    "M = [L[0][i].document.text for i in range(N)]\n",
    "M"
   ]
  },
  {
   "cell_type": "code",
   "execution_count": 6,
   "id": "d6b9e5a6-f861-4e10-85b5-7143f95416fc",
   "metadata": {},
   "outputs": [
    {
     "data": {
      "text/plain": [
       "['manage data collection systems',\n",
       " 'implement data quality processes',\n",
       " 'manage findable accessible interoperable and reusable data',\n",
       " 'use data processing techniques',\n",
       " 'develop data processing applications',\n",
       " 'define data quality criteria',\n",
       " 'data extraction, transformation and loading tools',\n",
       " 'use specific data analysis software',\n",
       " 'establish data processes',\n",
       " 'analyse data for policy decisions in trade']"
      ]
     },
     "execution_count": 6,
     "metadata": {},
     "output_type": "execute_result"
    }
   ],
   "source": [
    "N = 10\n",
    "L = retriever.retrieve(\"As a data-driven organization, we rely on our team members to expertly navigate data collection systems, effectively communicate actionable insights, analyze complex datasets, and construct innovative data models to drive informed decision making.\", top_k=N)\n",
    "M = [L[0][i].document.text for i in range(N)]\n",
    "M"
   ]
  },
  {
   "cell_type": "code",
   "execution_count": 41,
   "id": "70125388-e6f3-42b0-9708-3f7e7546760d",
   "metadata": {},
   "outputs": [
    {
     "data": {
      "text/plain": [
       "['Analytical skill',\n",
       " 'Skill',\n",
       " 'Forecast skill',\n",
       " 'Quantitative analyst',\n",
       " 'The Skill',\n",
       " 'Professional',\n",
       " 'Expert',\n",
       " 'Expertization',\n",
       " 'Certified Business Analysis Professional',\n",
       " 'Skill position']"
      ]
     },
     "execution_count": 41,
     "metadata": {},
     "output_type": "execute_result"
    }
   ],
   "source": [
    "N = 10\n",
    "L = retriever.retrieve(\"As a data-driven professional, you will apply your expertise in quantitative analysis and interpret complex datasets to drive informed decision-making and identify actionable insights.\", top_k=N)\n",
    "M = [L[0][i].document.text for i in range(N)]\n",
    "M"
   ]
  },
  {
   "cell_type": "code",
   "execution_count": 7,
   "id": "98de8222-87b1-49ef-9349-0ef1cec5aa9b",
   "metadata": {},
   "outputs": [
    {
     "data": {
      "text/plain": [
       "['manage quantitative data',\n",
       " 'conduct quantitative research',\n",
       " 'identify support mechanisms to develop your professional practice',\n",
       " 'define data quality criteria',\n",
       " 'perform data analysis',\n",
       " 'implement data quality processes',\n",
       " 'execute analytical mathematical calculations',\n",
       " 'evaluate the impact of your professional development',\n",
       " 'analyse large-scale data in healthcare',\n",
       " 'use specific data analysis software']"
      ]
     },
     "execution_count": 7,
     "metadata": {},
     "output_type": "execute_result"
    }
   ],
   "source": [
    "N = 10\n",
    "L = retriever.retrieve(\"As a data-driven professional, you will apply your expertise in quantitative analysis and interpret complex datasets to drive informed decision-making and identify actionable insights.\", top_k=N)\n",
    "M = [L[0][i].document.text for i in range(N)]\n",
    "M"
   ]
  },
  {
   "cell_type": "code",
   "execution_count": 42,
   "id": "9ffc16fc-4d70-4bc5-a466-55c31dcd27d5",
   "metadata": {},
   "outputs": [
    {
     "data": {
      "text/plain": [
       "['Advocate',\n",
       " 'Youth advocate',\n",
       " 'Advocate for Competition',\n",
       " 'Advocacy',\n",
       " 'Health Advocate',\n",
       " 'Special Advocate',\n",
       " 'Advocates for Youth',\n",
       " 'Environmentalist',\n",
       " 'Get Involved',\n",
       " 'Conservationist']"
      ]
     },
     "execution_count": 42,
     "metadata": {},
     "output_type": "execute_result"
    }
   ],
   "source": [
    "N = 10\n",
    "L = retriever.retrieve(\"As a dedicated advocate for sustainable practices, you will play a pivotal role in guiding our organization's commitment to corporate social responsibility, advising on pollution prevention strategies, and actively promoting the importance of youth engagement within our local community.\", top_k=N)\n",
    "M = [L[0][i].document.text for i in range(N)]\n",
    "M"
   ]
  },
  {
   "cell_type": "code",
   "execution_count": 8,
   "id": "d5f665c5-5193-467a-b2a2-8ea5f5f22904",
   "metadata": {},
   "outputs": [
    {
     "data": {
      "text/plain": [
       "['advise on corporate social responsibility ',\n",
       " \"measure company's sustainability performance\",\n",
       " 'corporate social responsibility',\n",
       " 'lead the sustainability reporting process',\n",
       " 'perform cleaning activities in an environmentally friendly way',\n",
       " 'adopt ways to reduce pollution',\n",
       " 'advise on sustainable management policies',\n",
       " 'promote the use of sustainable transport',\n",
       " 'advise on pollution prevention',\n",
       " 'use sustainable materials and components']"
      ]
     },
     "execution_count": 8,
     "metadata": {},
     "output_type": "execute_result"
    }
   ],
   "source": [
    "N = 10\n",
    "L = retriever.retrieve(\"As a dedicated advocate for sustainable practices, you will play a pivotal role in guiding our organization's commitment to corporate social responsibility, advising on pollution prevention strategies, and actively promoting the importance of youth engagement within our local community.\", top_k=N)\n",
    "M = [L[0][i].document.text for i in range(N)]\n",
    "M"
   ]
  },
  {
   "cell_type": "code",
   "execution_count": 43,
   "id": "04e8ddce-0e51-4552-ac01-9c8d68cba053",
   "metadata": {},
   "outputs": [
    {
     "data": {
      "text/plain": [
       "['Skill position',\n",
       " 'Skill',\n",
       " 'Logistics specialist',\n",
       " 'Specialist',\n",
       " 'Detail',\n",
       " 'The Skill',\n",
       " 'Unit supply specialist',\n",
       " 'Skill (labor)',\n",
       " 'Specialization',\n",
       " 'Skill mix']"
      ]
     },
     "execution_count": 43,
     "metadata": {},
     "output_type": "execute_result"
    }
   ],
   "source": [
    "N = 10\n",
    "L = retriever.retrieve(\"As a detail-oriented procurement specialist, you will be responsible for accurately selecting and organizing products for shipment, documenting cargo movements, managing supplier relationships, and ensuring the timely receipt of goods.\", top_k=N)\n",
    "M = [L[0][i].document.text for i in range(N)]\n",
    "M"
   ]
  },
  {
   "cell_type": "code",
   "execution_count": 9,
   "id": "847717d5-75ba-4abb-bf0e-febed0e4affc",
   "metadata": {},
   "outputs": [
    {
     "data": {
      "text/plain": [
       "['ensure that shipment contents correspond with shipping documentation',\n",
       " 'perform procurement processes',\n",
       " 'oversee logistics of finished products',\n",
       " 'anticipate shipment handling requirements',\n",
       " 'coordinate orders from various suppliers',\n",
       " 'manage procurement planning',\n",
       " 'handle customer requests related to cargo',\n",
       " 'respond to requests for logistics services from all over the world',\n",
       " 'assess procurement needs',\n",
       " 'ensure compliance with purchasing and contracting regulations']"
      ]
     },
     "execution_count": 9,
     "metadata": {},
     "output_type": "execute_result"
    }
   ],
   "source": [
    "N = 10\n",
    "L = retriever.retrieve(\"As a detail-oriented procurement specialist, you will be responsible for accurately selecting and organizing products for shipment, documenting cargo movements, managing supplier relationships, and ensuring the timely receipt of goods.\", top_k=N)\n",
    "M = [L[0][i].document.text for i in range(N)]\n",
    "M"
   ]
  },
  {
   "cell_type": "code",
   "execution_count": 45,
   "id": "b56eac03-50ab-4e0d-8aea-dc71929adc93",
   "metadata": {},
   "outputs": [
    {
     "data": {
      "text/plain": [
       "['Professional',\n",
       " 'Analytical skill',\n",
       " 'Strategic and Competitive Intelligence Professionals',\n",
       " 'Skill',\n",
       " 'Business analyst',\n",
       " 'Forecast skill',\n",
       " 'Dynamic pricing',\n",
       " 'Creative professional',\n",
       " 'Businessperson',\n",
       " 'Skill position']"
      ]
     },
     "execution_count": 45,
     "metadata": {},
     "output_type": "execute_result"
    }
   ],
   "source": [
    "N = 10\n",
    "L = retriever.retrieve(\"As a dynamic and strategic business professional, you will be instrumental in conducting comprehensive market analysis and formulating innovative approaches to maintain competitive pricing, drive revenue growth, and optimize pricing strategies within our organization.\", top_k=N)\n",
    "M = [L[0][i].document.text for i in range(N)]\n",
    "M"
   ]
  },
  {
   "cell_type": "code",
   "execution_count": 10,
   "id": "9b6c3b98-3bd7-41c0-97c7-7707d12dcfe6",
   "metadata": {},
   "outputs": [
    {
     "data": {
      "text/plain": [
       "['identify support mechanisms to develop your professional practice',\n",
       " 'make strategic business decisions',\n",
       " 'evaluate the impact of your professional development',\n",
       " 'demonstrate professional attitude to clients',\n",
       " 'perform financial analysis on price strategies',\n",
       " 'undertake continuous professional development in fishery operations',\n",
       " 'identify potential markets for companies',\n",
       " 'keep updated on innovations in various business fields',\n",
       " 'analyse market financial trends',\n",
       " 'deliver business research proposals',\n",
       " 'collaborate in the development of marketing strategies',\n",
       " 'develop revenue generation strategies',\n",
       " 'perform business analysis',\n",
       " 'set up pricing strategies',\n",
       " 'draw conclusions from market research results',\n",
       " 'develop professional network with researchers and scientists',\n",
       " 'manage aftersales processes to comply with business standards',\n",
       " 'interact professionally in research and professional environments',\n",
       " 'report accounts of the professional activity',\n",
       " 'develop professional network',\n",
       " 'communicate commercial and technical issues in foreign languages',\n",
       " 'analyse business requirements',\n",
       " 'provide training on technological business developments',\n",
       " 'advise on market strategies',\n",
       " 'analyse business objectives',\n",
       " 'use analytics for commercial purposes',\n",
       " 'perform business research',\n",
       " 'consult with industry professionals',\n",
       " 'identify market niches',\n",
       " 'forecast future levels of business',\n",
       " 'carry out strategic research',\n",
       " 'maintain updated professional knowledge',\n",
       " 'assist in developing marketing campaigns',\n",
       " 'provide customer guidance on product selection',\n",
       " 'perform market research',\n",
       " 'analyse business plans',\n",
       " 'show an exemplary leading role in an organisation',\n",
       " 'business analysis',\n",
       " 'identify pricing opportunities',\n",
       " 'market analysis',\n",
       " 'undertake continuous professional development in social work',\n",
       " 'perform customers’ needs analysis',\n",
       " 'provide professional care in nursing',\n",
       " 'study sales levels of products',\n",
       " 'integrate marketing strategies with the global strategy',\n",
       " 'pricing strategies',\n",
       " 'provide customers with price information',\n",
       " 'perform financial market business',\n",
       " 'cooperate with professionals',\n",
       " 'maintain professional administration']"
      ]
     },
     "execution_count": 10,
     "metadata": {},
     "output_type": "execute_result"
    }
   ],
   "source": [
    "N = 50\n",
    "L = retriever.retrieve(\"As a dynamic and strategic business professional, you will be instrumental in conducting comprehensive market analysis and formulating innovative approaches to maintain competitive pricing, drive revenue growth, and optimize pricing strategies within our organization.\", top_k=N)\n",
    "M = [L[0][i].document.text for i in range(N)]\n",
    "M"
   ]
  },
  {
   "cell_type": "code",
   "execution_count": null,
   "id": "fcdd004f",
   "metadata": {},
   "outputs": [],
   "source": []
  },
  {
   "cell_type": "code",
   "execution_count": 3,
   "id": "c99356a9",
   "metadata": {},
   "outputs": [
    {
     "name": "stdout",
     "output_type": "stream",
     "text": [
      "                ___              __         \n",
      "               /\\_ \\      __    /\\ \\        \n",
      " _ __     __   \\//\\ \\    /\\_\\   \\ \\ \\/'\\    \n",
      "/\\`'__\\ /'__`\\   \\ \\ \\   \\/\\ \\   \\ \\ , <    \n",
      "\\ \\ \\/ /\\  __/    \\_\\ \\_  \\ \\ \\   \\ \\ \\\\`\\  \n",
      " \\ \\_\\ \\ \\____\\   /\\____\\  \\ \\_\\   \\ \\_\\ \\_\\\n",
      "  \\/_/  \\/____/   \\/____/   \\/_/    \\/_/\\/_/\n",
      "                                            \n",
      "                                            \n",
      "\n",
      "[2025-02-20 20:56:15,177] [INFO] [relik.inference.annotator.from_pretrained:700] [PID:13362] [RANK:0] Loading Relik from sapienzanlp/relik-entity-linking-large\u001b[39m\n",
      "[2025-02-20 20:56:15,179] [INFO] [relik.inference.annotator.from_pretrained:701] [PID:13362] [RANK:0] {\n",
      "    '_target_': 'relik.inference.annotator.Relik',\n",
      "    'index': {\n",
      "        'span': {\n",
      "            '_target_': 'relik.retriever.indexers.inmemory.InMemoryDocumentIndex.from_pretrained',\n",
      "            'name_or_path': 'sapienzanlp/relik-retriever-e5-base-v2-aida-blink-wikipedia-index',\n",
      "        },\n",
      "    },\n",
      "    'metadata_fields': [],\n",
      "    'reader': {\n",
      "        '_target_': 'relik.reader.pytorch_modules.span.RelikReaderForSpanExtraction',\n",
      "        'transformer_model': 'sapienzanlp/relik-reader-deberta-v3-large-aida',\n",
      "        'use_nme': True,\n",
      "    },\n",
      "    'retriever': {\n",
      "        'span': {\n",
      "            '_target_': 'relik.retriever.pytorch_modules.model.GoldenRetriever',\n",
      "            'question_encoder': 'sapienzanlp/relik-retriever-e5-base-v2-aida-blink-encoder',\n",
      "        },\n",
      "    },\n",
      "    'task': 'SPAN',\n",
      "    'top_k': 100,\n",
      "    'window_size': 32,\n",
      "    'window_stride': 16,\n",
      "}\u001b[39m\n",
      "\u001b[33m[2025-02-20 20:56:15,181] [WARNING] [relik.inference.annotator.from_pretrained:734] [PID:13362] [RANK:0] No retriever was provided, ignoring the index.\u001b[39m\n"
     ]
    }
   ],
   "source": [
    "from relik import Relik\n",
    "reader = Relik.from_pretrained(\"sapienzanlp/relik-entity-linking-large\", retriever=None, reader=\"../models/fine_tuned_model1\")"
   ]
  },
  {
   "cell_type": "code",
   "execution_count": 4,
   "id": "c9a56ee0",
   "metadata": {},
   "outputs": [
    {
     "name": "stdout",
     "output_type": "stream",
     "text": [
      "\u001b[36m[2025-02-20 20:56:33,031] [DEBUG] [relik.reader.data.relik_reader_data.__iter__:527] [PID:13362] [RANK:0] Dataset finished: 1 number of elements processed\u001b[39m\n"
     ]
    }
   ],
   "source": [
    "from relik.inference.data.objects import RelikOutput\n",
    "relik_out: RelikOutput = reader(\"A successful candidate will possess expertise in managing and analyzing structured data within a sophisticated information management system leveraging data warehousing techniques to maximize efficiency and optimize data retrieval\", candidates=[\"data extraction, transformation and loading tools\",\"implement data warehousing techniques\",\"perform data analysis\"])"
   ]
  },
  {
   "cell_type": "code",
   "execution_count": 6,
   "id": "ef7961d0",
   "metadata": {},
   "outputs": [
    {
     "data": {
      "text/plain": [
       "'A successful candidate will possess expertise in managing and analyzing structured data within a sophisticated information management system leveraging data warehousing techniques to maximize efficiency and optimize data retrieval'"
      ]
     },
     "execution_count": 6,
     "metadata": {},
     "output_type": "execute_result"
    }
   ],
   "source": [
    "relik_out.text"
   ]
  },
  {
   "cell_type": "code",
   "execution_count": 8,
   "id": "75374d54",
   "metadata": {},
   "outputs": [
    {
     "data": {
      "text/plain": [
       "[Span(start=2, end=12, label='perform data analysis', text='successful')]"
      ]
     },
     "execution_count": 8,
     "metadata": {},
     "output_type": "execute_result"
    }
   ],
   "source": [
    "relik_out.spans"
   ]
  },
  {
   "cell_type": "code",
   "execution_count": 10,
   "id": "610a8ac4",
   "metadata": {},
   "outputs": [
    {
     "data": {
      "text/plain": [
       "Candidates(span=[[[{\"text\": \"data extraction, transformation and loading tools\", \"id\": -8098823173671674708, \"metadata\": {}}, {\"text\": \"implement data warehousing techniques\", \"id\": 9140720752865076150, \"metadata\": {}}, {\"text\": \"perform data analysis\", \"id\": -4666011935756948919, \"metadata\": {}}]]], triplet=[])"
      ]
     },
     "execution_count": 10,
     "metadata": {},
     "output_type": "execute_result"
    }
   ],
   "source": [
    "relik_out.candidates"
   ]
  },
  {
   "cell_type": "code",
   "execution_count": 11,
   "id": "d022b8d5",
   "metadata": {},
   "outputs": [
    {
     "data": {
      "text/plain": [
       "RelikOutput(text='A successful candidate will possess expertise in managing and analyzing structured data within a sophisticated information management system leveraging data warehousing techniques to maximize efficiency and optimize data retrieval', tokens=A successful candidate will possess expertise in managing and analyzing structured data within a sophisticated information management system leveraging data warehousing techniques to maximize efficiency and optimize data retrieval, id=0, spans=[Span(start=2, end=12, label='perform data analysis', text='successful')], triplets=[], candidates=Candidates(span=[[[{\"text\": \"data extraction, transformation and loading tools\", \"id\": -8098823173671674708, \"metadata\": {}}, {\"text\": \"implement data warehousing techniques\", \"id\": 9140720752865076150, \"metadata\": {}}, {\"text\": \"perform data analysis\", \"id\": -4666011935756948919, \"metadata\": {}}]]], triplet=[]), windows=None)"
      ]
     },
     "execution_count": 11,
     "metadata": {},
     "output_type": "execute_result"
    }
   ],
   "source": [
    "relik_out"
   ]
  },
  {
   "cell_type": "code",
   "execution_count": 12,
   "id": "06022792",
   "metadata": {},
   "outputs": [
    {
     "name": "stdout",
     "output_type": "stream",
     "text": [
      "\u001b[36m[2025-02-20 21:16:07,429] [DEBUG] [relik.reader.data.relik_reader_data.__iter__:527] [PID:13362] [RANK:0] Dataset finished: 2 number of elements processed\u001b[39m\n"
     ]
    }
   ],
   "source": [
    "relik_out: RelikOutput = reader(\"As a dynamic and strategic business professional, you will be instrumental in conducting comprehensive market analysis and formulating innovative approaches to maintain competitive pricing, drive revenue growth, and optimize pricing strategies within our organization.\", candidates=['identify support mechanisms to develop your professional practice','make strategic business decisions','evaluate the impact of your professional development','demonstrate professional attitude to clients','perform financial analysis on price strategies','undertake continuous professional development in fishery operations','identify potential markets for companies','keep updated on innovations in various business fields','analyse market financial trends','deliver business research proposals','collaborate in the development of marketing strategies','develop revenue generation strategies','perform business analysis','set up pricing strategies'])"
   ]
  },
  {
   "cell_type": "code",
   "execution_count": 13,
   "id": "81d3b0fc",
   "metadata": {},
   "outputs": [
    {
     "data": {
      "text/plain": [
       "RelikOutput(text='As a dynamic and strategic business professional, you will be instrumental in conducting comprehensive market analysis and formulating innovative approaches to maintain competitive pricing, drive revenue growth, and optimize pricing strategies within our organization.', tokens=As a dynamic and strategic business professional, you will be instrumental in conducting comprehensive market analysis and formulating innovative approaches to maintain competitive pricing, drive revenue growth, and optimize pricing strategies within our organization., id=0, spans=[], triplets=[], candidates=Candidates(span=[[[{\"text\": \"identify support mechanisms to develop your professional practice\", \"id\": 7403614908332708733, \"metadata\": {}}, {\"text\": \"make strategic business decisions\", \"id\": -4629249134793440661, \"metadata\": {}}, {\"text\": \"evaluate the impact of your professional development\", \"id\": 3982380630250095752, \"metadata\": {}}, {\"text\": \"demonstrate professional attitude to clients\", \"id\": -2789279771216522171, \"metadata\": {}}, {\"text\": \"perform financial analysis on price strategies\", \"id\": 8926637451213439583, \"metadata\": {}}, {\"text\": \"undertake continuous professional development in fishery operations\", \"id\": -1950140122793863654, \"metadata\": {}}, {\"text\": \"identify potential markets for companies\", \"id\": 7287256876726505013, \"metadata\": {}}, {\"text\": \"keep updated on innovations in various business fields\", \"id\": 4562957178538446752, \"metadata\": {}}, {\"text\": \"analyse market financial trends\", \"id\": 4044242083769024041, \"metadata\": {}}, {\"text\": \"deliver business research proposals\", \"id\": -8037126571573576920, \"metadata\": {}}, {\"text\": \"collaborate in the development of marketing strategies\", \"id\": -1870787954065169632, \"metadata\": {}}, {\"text\": \"develop revenue generation strategies\", \"id\": 1650550787953794511, \"metadata\": {}}, {\"text\": \"perform business analysis\", \"id\": 2824596728478224937, \"metadata\": {}}, {\"text\": \"set up pricing strategies\", \"id\": 3343794815362404044, \"metadata\": {}}], [{\"text\": \"identify support mechanisms to develop your professional practice\", \"id\": 7403614908332708733, \"metadata\": {}}, {\"text\": \"make strategic business decisions\", \"id\": -4629249134793440661, \"metadata\": {}}, {\"text\": \"evaluate the impact of your professional development\", \"id\": 3982380630250095752, \"metadata\": {}}, {\"text\": \"demonstrate professional attitude to clients\", \"id\": -2789279771216522171, \"metadata\": {}}, {\"text\": \"perform financial analysis on price strategies\", \"id\": 8926637451213439583, \"metadata\": {}}, {\"text\": \"undertake continuous professional development in fishery operations\", \"id\": -1950140122793863654, \"metadata\": {}}, {\"text\": \"identify potential markets for companies\", \"id\": 7287256876726505013, \"metadata\": {}}, {\"text\": \"keep updated on innovations in various business fields\", \"id\": 4562957178538446752, \"metadata\": {}}, {\"text\": \"analyse market financial trends\", \"id\": 4044242083769024041, \"metadata\": {}}, {\"text\": \"deliver business research proposals\", \"id\": -8037126571573576920, \"metadata\": {}}, {\"text\": \"collaborate in the development of marketing strategies\", \"id\": -1870787954065169632, \"metadata\": {}}, {\"text\": \"develop revenue generation strategies\", \"id\": 1650550787953794511, \"metadata\": {}}, {\"text\": \"perform business analysis\", \"id\": 2824596728478224937, \"metadata\": {}}, {\"text\": \"set up pricing strategies\", \"id\": 3343794815362404044, \"metadata\": {}}]]], triplet=[]), windows=None)"
      ]
     },
     "execution_count": 13,
     "metadata": {},
     "output_type": "execute_result"
    }
   ],
   "source": [
    "relik_out"
   ]
  }
 ],
 "metadata": {
  "kernelspec": {
   "display_name": "Python 3",
   "language": "python",
   "name": "python3"
  },
  "language_info": {
   "codemirror_mode": {
    "name": "ipython",
    "version": 3
   },
   "file_extension": ".py",
   "mimetype": "text/x-python",
   "name": "python",
   "nbconvert_exporter": "python",
   "pygments_lexer": "ipython3",
   "version": "3.10.12"
  }
 },
 "nbformat": 4,
 "nbformat_minor": 5
}
